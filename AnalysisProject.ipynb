import pandas as pd

# Loading the CSV dataset
# After downloading the dataset provided on submission, copy its file path and replace the content for the 'file_path' variable.

file_path = r"C:\Users\david\Downloads\data_gov_bldg_rexus.csv"
df = pd.read_csv(file_path)

df.info(), df.head()

# Convert Construction Date to datetime
df['Construction Date'] = pd.to_datetime(df['Construction Date'], errors='coerce')

# Clean string columns: strip and title-case
str_cols = df.select_dtypes(include='object').columns
df[str_cols] = df[str_cols].apply(lambda x: x.str.strip().str.title())

# Fill missing Address2 with empty string
df['Bldg Address2'] = df['Bldg Address2'].fillna('')

# Add helper columns
df['Year Built'] = df['Construction Date'].dt.year
df['Building Age'] = pd.Timestamp.now().year - df['Year Built']
df['Has Parking'] = df['Total Parking Spaces'].apply(lambda x: 'Yes' if x > 0 else 'No')

# Preview results
df[['Construction Date', 'Year Built', 'Building Age', 'Has Parking']].head()

# Dropping completely empty columns checking columns before and after
print("Before:", df.shape[1], "columns")
df.dropna(axis=1, how='all', inplace=True)
print("After:", df.shape[1], "columns")
